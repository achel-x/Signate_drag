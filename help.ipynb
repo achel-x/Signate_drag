{
 "cells": [
  {
   "cell_type": "code",
   "execution_count": null,
   "metadata": {},
   "outputs": [],
   "source": [
    "#通过交叉验证获得预测值\n",
    "#函数cross_val_predict和cross_val_score功能相似，但前者对每个输入返回一个预测元素\n",
    "from sklearn.model_selection import cross_val_predict\n",
    "predicted=cross_val_predict(clf,iris.data,iris.target,cv=10)\n",
    "metrics.accuracy_score(iris.target,predicted)"
   ]
  },
  {
   "cell_type": "code",
   "execution_count": null,
   "metadata": {},
   "outputs": [],
   "source": [
    "#生成文件\n",
    "submission_df=pd.DataFrame(data={'Id':test_df.index,'SalePrice':y_final})\n",
    "submission_df.head()\n",
    "submission_df.to_csv('ensenbl_ridge_randomForest.csv',header=False,index=False)"
   ]
  },
  {
   "cell_type": "code",
   "execution_count": null,
   "metadata": {},
   "outputs": [],
   "source": [
    "#模型基础验证\n",
    "#建立模型SVR\n",
    "svc=svm.SVR(kernel='rbf',C=10,gamma=0.001)\n",
    "#训练模型\n",
    "svc.fit(X_train,y_train)\n",
    "#得到分数\n",
    "print(svc.score(X_test,y_test))\n",
    "\n",
    "\n",
    "#交叉验证\n",
    "scores = cross_val_score(svc, X_train, y_train,cv=5,scoring='r2')\n",
    "print(\"Accuary: %0.2f(+/-%0.2f)\" % (scores.mean(),scores.std()*2))\n",
    "\n",
    "#判断参数\n"
   ]
  },
  {
   "cell_type": "code",
   "execution_count": null,
   "metadata": {},
   "outputs": [],
   "source": []
  },
  {
   "cell_type": "code",
   "execution_count": null,
   "metadata": {},
   "outputs": [],
   "source": [
    "#随机森林回归调参\n",
    "N_estimators=[20,50,100,150,200,260,300]\n",
    "test_scores=[]\n",
    "for N in N_estimators:\n",
    "    clf=RandomForestRegressor(n_estimators=N,max_features=0.3)\n",
    "    test_score=np.sqrt(-cross_val_score(clf,X_train,y_train,cv=5,scoring='neg_mean_squared_error'))\n",
    "    test_scores.append(np.mean(test_score))\n",
    "plt.plot(N_estimators,test_scores)\n",
    "plt.title('N_estimators vc CV Error')"
   ]
  },
  {
   "cell_type": "code",
   "execution_count": null,
   "metadata": {},
   "outputs": [],
   "source": [
    "#保存模型\n",
    "import joblib\n",
    "\n",
    "joblib.dump(svc, 'SVR.pickle')\n",
    "joblib.dump(svcRF, 'svcRF.pickle')\n",
    "#载入模型\n",
    "svc = joblib.load('SVR.pickle')\n",
    "svcRF = joblib.load('svcRF.pickle')"
   ]
  },
  {
   "cell_type": "code",
   "execution_count": null,
   "metadata": {},
   "outputs": [],
   "source": [
    "#练习：字典定义 多变量循环\n",
    "dic={\"test1\": [1, 2, 3, 4],\"test2\": [6, 7, 8, 9],\"test3\":[10, 11, 12, 13],\"test4\":[14, 15, 16, 17]}\n",
    "t1=dic['test1']\n",
    "t2=dic['test2']\n",
    "t3=dic['test3']\n",
    "t4=dic['test4']\n",
    "\n",
    "\n",
    "for (a,b,c) in zip(dic['test1'],dic['test2'],dic['test3']):\n",
    "    print(\"%0.3f(%0.03f) for %r\"%(a,b,c))"
   ]
  },
  {
   "cell_type": "code",
   "execution_count": 3,
   "metadata": {},
   "outputs": [
    {
     "name": "stdout",
     "output_type": "stream",
     "text": [
      "[0]\teval-auc:0.5\ttrain-auc:0.5\n",
      "[1]\teval-auc:0.5\ttrain-auc:0.5\n",
      "[2]\teval-auc:0.5\ttrain-auc:0.5\n",
      "[3]\teval-auc:0.5\ttrain-auc:0.5\n",
      "[4]\teval-auc:0.5\ttrain-auc:0.5\n",
      "[5]\teval-auc:0.5\ttrain-auc:0.5\n",
      "[6]\teval-auc:0.5\ttrain-auc:0.5\n",
      "[7]\teval-auc:0.5\ttrain-auc:0.5\n",
      "[8]\teval-auc:0.5\ttrain-auc:0.5\n",
      "[9]\teval-auc:0.5\ttrain-auc:0.5\n"
     ]
    }
   ],
   "source": [
    "#xgboost的安装试验代码\n",
    "import numpy as np  \n",
    "import xgboost as xgb  \n",
    "data = np.random.rand(5,10) # 5 entities, each contains 10 features  \n",
    "label = np.random.randint(2, size=5) # binary target  \n",
    "dtrain = xgb.DMatrix( data, label=label)  \n",
    "  \n",
    "dtest = dtrain  \n",
    "  \n",
    "param = {'bst:max_depth':2, 'bst:eta':1, 'silent':1, 'objective':'binary:logistic' }  \n",
    "param['nthread'] = 4  \n",
    "param['eval_metric'] = 'auc'  \n",
    "  \n",
    "evallist  = [(dtest,'eval'), (dtrain,'train')]  \n",
    "  \n",
    "num_round = 10  \n",
    "bst = xgb.train( param, dtrain, num_round, evallist )  \n",
    "  \n",
    "bst.dump_model('dump.raw.txt')\n",
    "\n",
    "\n"
   ]
  },
  {
   "cell_type": "code",
   "execution_count": null,
   "metadata": {},
   "outputs": [],
   "source": [
    "#stacking\n",
    "#定义分类器\n",
    "clfs = [\n",
    "        RandomForestClassifier(n_estimators = n_trees, criterion = 'gini'),\n",
    "        ExtraTreesClassifier(n_estimators = n_trees * 2, criterion = 'gini'),\n",
    "        GradientBoostingClassifier(n_estimators = n_trees),\n",
    "    ]\n",
    "#划分测试机\n",
    "dev_cutoff = len(Y) * 4/5\n",
    "    X_dev = X[:dev_cutoff]\n",
    "    Y_dev = Y[:dev_cutoff]\n",
    "    X_test = X[dev_cutoff:]\n",
    "    Y_test = Y[dev_cutoff:]\n",
    "#定义第二层的训练数据 blend_train\n",
    "blend_train = np.zeros((X_dev.shape[0], len(clfs))) # Number of training data x Number of classifiers\n",
    "blend_test = np.zeros((X_test.shape[0], len(clfs))) # Number of testing data x Number of classifiers\n",
    "\n",
    "#得到blend_train 和 blend_test\n",
    "for j, clf in enumerate(clfs):\n",
    "        print 'Training classifier [%s]' % (j)\n",
    "        blend_test_j = np.zeros((X_test.shape[0], len(skf))) # Number of testing data x Number of folds , we will take the mean of the predictions later\n",
    "        for i, (train_index, cv_index) in enumerate(skf):\n",
    "            print 'Fold [%s]' % (i)\n",
    "            \n",
    "            # This is the training and validation set\n",
    "            X_train = X_dev[train_index]\n",
    "            Y_train = Y_dev[train_index]\n",
    "            X_cv = X_dev[cv_index]\n",
    "            Y_cv = Y_dev[cv_index]\n",
    "            \n",
    "            clf.fit(X_train, Y_train)\n",
    "            \n",
    "            # This output will be the basis for our blended classifier to train against,\n",
    "            # which is also the output of our classifiers\n",
    "            blend_train[cv_index, j] = clf.predict(X_cv)\n",
    "            blend_test_j[:, i] = clf.predict(X_test)\n",
    "        # Take the mean of the predictions of the cross validation set\n",
    "        blend_test[:, j] = blend_test_j.mean(1)\n",
    "\n",
    "#训练第二层\n",
    "bclf = LogisticRegression()\n",
    "bclf.fit(blend_train, Y_dev)\n",
    "\n",
    "#得到第二层分数\n",
    "Y_test_predict = bclf.predict(blend_test)\n",
    "score = metrics.accuracy_score(Y_test, Y_test_predict)\n",
    "print 'Accuracy = %s' % (score)"
   ]
  },
  {
   "cell_type": "code",
   "execution_count": 124,
   "metadata": {
    "scrolled": true
   },
   "outputs": [
    {
     "name": "stdout",
     "output_type": "stream",
     "text": [
      "[[61, 62, 63, 64, 65, 66, 67, 68, 69, 70], [71, 72, 73, 74, 75, 76, 77, 78, 79, 80], [81, 82, 83, 84, 85, 86, 87, 88, 89, 90], [101, 102, 103, 104, 105, 106, 107, 108, 109, 110], [111, 112, 113, 114, 115, 116, 117, 118, 119, 120], [121, 122, 123, 124, 125, 126, 127, 128, 129, 130]]\n",
      "(10, 1)\n"
     ]
    }
   ],
   "source": [
    "X=[[61, 62, 63, 64, 65, 66, 67, 68, 69, 70],[ 71,72, 73, 74, 75, 76, 77,78, 79, 80],[ 81, 82, 83, 84, 85, 86, 87, 88, 89, 90],\n",
    "   [101, 102, 103, 104, 105, 106, 107, 108, 109, 110],[ 111, 112, 113,114, 115, 116, 117, 118, 119, 120],[ 121, 122, 123, 124, 125, 126,\n",
    "    127, 128, 129, 130]]\n",
    "print(X)\n",
    "Y=np.arange(31,41)\n",
    "Y=Y.reshape(len(Y),1)\n",
    "print(np.shape(Y))"
   ]
  },
  {
   "cell_type": "code",
   "execution_count": 126,
   "metadata": {},
   "outputs": [],
   "source": [
    "import pandas as pd\n",
    "id_test=pd.read_csv('id_test.csv').values"
   ]
  },
  {
   "cell_type": "code",
   "execution_count": 128,
   "metadata": {},
   "outputs": [
    {
     "name": "stdout",
     "output_type": "stream",
     "text": [
      "[[    1]\n",
      " [    2]\n",
      " [    3]\n",
      " ...\n",
      " [27458]\n",
      " [27461]\n",
      " [27462]]\n"
     ]
    }
   ],
   "source": [
    "print(id_test)"
   ]
  },
  {
   "cell_type": "code",
   "execution_count": 122,
   "metadata": {},
   "outputs": [
    {
     "data": {
      "text/plain": [
       "array([ 65.5,  75.5,  85.5, 105.5, 115.5, 125.5])"
      ]
     },
     "execution_count": 122,
     "metadata": {},
     "output_type": "execute_result"
    }
   ],
   "source": [
    "np.array(X).mean(1)"
   ]
  },
  {
   "cell_type": "code",
   "execution_count": 119,
   "metadata": {},
   "outputs": [
    {
     "ename": "TypeError",
     "evalue": "only integer scalar arrays can be converted to a scalar index",
     "output_type": "error",
     "traceback": [
      "\u001b[1;31m---------------------------------------------------------------------------\u001b[0m",
      "\u001b[1;31mTypeError\u001b[0m                                 Traceback (most recent call last)",
      "\u001b[1;32m<ipython-input-119-bf44abb90031>\u001b[0m in \u001b[0;36m<module>\u001b[1;34m\u001b[0m\n\u001b[0;32m      6\u001b[0m     \u001b[0mkfold_X\u001b[0m\u001b[1;33m=\u001b[0m\u001b[1;33m{\u001b[0m\u001b[1;33m}\u001b[0m\u001b[1;33m\u001b[0m\u001b[1;33m\u001b[0m\u001b[0m\n\u001b[0;32m      7\u001b[0m     \u001b[0mkfold_Y\u001b[0m\u001b[1;33m=\u001b[0m\u001b[1;33m{\u001b[0m\u001b[1;33m}\u001b[0m\u001b[1;33m\u001b[0m\u001b[1;33m\u001b[0m\u001b[0m\n\u001b[1;32m----> 8\u001b[1;33m     \u001b[0mkfold_X\u001b[0m\u001b[1;33m,\u001b[0m\u001b[0mkfold_Y\u001b[0m\u001b[1;33m=\u001b[0m\u001b[0mX\u001b[0m\u001b[1;33m[\u001b[0m\u001b[0mtrain_index\u001b[0m\u001b[1;33m]\u001b[0m\u001b[1;33m,\u001b[0m\u001b[0mX\u001b[0m\u001b[1;33m[\u001b[0m\u001b[0mtest_index\u001b[0m\u001b[1;33m]\u001b[0m\u001b[1;33m\u001b[0m\u001b[1;33m\u001b[0m\u001b[0m\n\u001b[0m\u001b[0;32m      9\u001b[0m     \u001b[0mprint\u001b[0m\u001b[1;33m(\u001b[0m\u001b[1;34m'训练集:{}'\u001b[0m\u001b[1;33m.\u001b[0m\u001b[0mformat\u001b[0m\u001b[1;33m(\u001b[0m\u001b[0mtrain_index\u001b[0m\u001b[1;33m)\u001b[0m\u001b[1;33m)\u001b[0m\u001b[1;33m\u001b[0m\u001b[1;33m\u001b[0m\u001b[0m\n\u001b[0;32m     10\u001b[0m     \u001b[0mprint\u001b[0m\u001b[1;33m(\u001b[0m\u001b[1;34m'测试集:{}'\u001b[0m\u001b[1;33m.\u001b[0m\u001b[0mformat\u001b[0m\u001b[1;33m(\u001b[0m\u001b[0mtest_index\u001b[0m\u001b[1;33m)\u001b[0m\u001b[1;33m)\u001b[0m\u001b[1;33m\u001b[0m\u001b[1;33m\u001b[0m\u001b[0m\n",
      "\u001b[1;31mTypeError\u001b[0m: only integer scalar arrays can be converted to a scalar index"
     ]
    }
   ],
   "source": [
    "#Kfold 用法 不会因为刷新而变化 返回的是index\n",
    "from sklearn.model_selection import KFold\n",
    "kf = KFold(3, True,50)\n",
    "\n",
    "for train_index, test_index in kf.split(X):\n",
    "    kfold_X={}\n",
    "    kfold_Y={}\n",
    "    kfold_X,kfold_Y=X[train_index],X[test_index]\n",
    "    print('训练集:{}'.format(train_index))\n",
    "    print('测试集:{}'.format(test_index))\n",
    "    print(kfold_X)\n",
    "    print(kfold_Y)\n",
    "    print(Y[train_index])\n",
    "    print(Y[test_index])\n",
    "    print(type(X[test_index]))\n",
    "    \n",
    "    #model.fit()\n"
   ]
  },
  {
   "cell_type": "code",
   "execution_count": 106,
   "metadata": {},
   "outputs": [],
   "source": [
    "# 处理后的原训练集 特征数据：dg_pca_train\n",
    "# 处理后的原训练集合 得分数据：score_train\n",
    "# 处理后的测试集合：dg_pca_test\n",
    "# 测试集序号：id_test\n",
    "\n",
    "# 在dg_pca_train中继续划分数据\n",
    "# X_train：0.8比例的原训练集特征 用作训练和验证\n",
    "# X_test：0.2比例的原训练集特征 用作测试（模型选择）\n",
    "# y_train：0.8比例的原训练集分数 对应X_train\n",
    "# y_test：0.2比例的原训练集分数 对应X_test"
   ]
  },
  {
   "cell_type": "code",
   "execution_count": 71,
   "metadata": {},
   "outputs": [
    {
     "ename": "TypeError",
     "evalue": "'generator' object is not subscriptable",
     "output_type": "error",
     "traceback": [
      "\u001b[1;31m---------------------------------------------------------------------------\u001b[0m",
      "\u001b[1;31mTypeError\u001b[0m                                 Traceback (most recent call last)",
      "\u001b[1;32m<ipython-input-71-d1e22fc30854>\u001b[0m in \u001b[0;36m<module>\u001b[1;34m\u001b[0m\n\u001b[1;32m----> 1\u001b[1;33m \u001b[0mkf\u001b[0m\u001b[1;33m.\u001b[0m\u001b[0msplit\u001b[0m\u001b[1;33m(\u001b[0m\u001b[0mX\u001b[0m\u001b[1;33m)\u001b[0m\u001b[1;33m[\u001b[0m\u001b[0mtrain_index\u001b[0m\u001b[1;33m]\u001b[0m\u001b[1;33m\u001b[0m\u001b[1;33m\u001b[0m\u001b[0m\n\u001b[0m",
      "\u001b[1;31mTypeError\u001b[0m: 'generator' object is not subscriptable"
     ]
    }
   ],
   "source": [
    "#定义模型        \n",
    "clfs = [\n",
    "        RandomForestClassifier(n_estimators = n_trees, criterion = 'gini'),\n",
    "        ExtraTreesClassifier(n_estimators = n_trees * 2, criterion = 'gini'),\n",
    "        GradientBoostingClassifier(n_estimators = n_trees),\n",
    "    ]\n",
    "#原始数据\n",
    "X=dg_pca_train\n",
    "\n",
    "\n",
    "#建立五折交叉验证的系数集合\n",
    "kf = KFold(5, True,20)\n",
    "for train_index, test_index in kf.split(X):\n",
    "        kfold_X_train = {}\n",
    "        kfold_X_valid = {}\n",
    "\n",
    "        # 取数据的标签\n",
    "        y_train, y_test = train_y[train_index], train_y[test_index]\n",
    "        # 取数据\n",
    "        kfold_X_train, kfold_X_valid = train[train_index], train[test_index]\n",
    "\n",
    "\n",
    "\n",
    "#建立模型SVR\n",
    "svc=svm.SVR(kernel='rbf',C=10,gamma=0.001)\n",
    "#训练模型\n",
    "svc.fit(X_train,y_train)\n",
    "#得到分数\n",
    "print(svc.score(X_test,y_test))\n",
    "\n",
    "\n",
    "#交叉验证\n",
    "scores = cross_val_score(svc, X_train, y_train,cv=5,scoring='r2')\n",
    "print(\"Accuary: %0.2f(+/-%0.2f)\" % (scores.mean(),scores.std()*2))\n",
    "\n",
    "#判断参数"
   ]
  }
 ],
 "metadata": {
  "kernelspec": {
   "display_name": "Python 3",
   "language": "python",
   "name": "python3"
  },
  "language_info": {
   "codemirror_mode": {
    "name": "ipython",
    "version": 3
   },
   "file_extension": ".py",
   "mimetype": "text/x-python",
   "name": "python",
   "nbconvert_exporter": "python",
   "pygments_lexer": "ipython3",
   "version": "3.6.9"
  }
 },
 "nbformat": 4,
 "nbformat_minor": 2
}
