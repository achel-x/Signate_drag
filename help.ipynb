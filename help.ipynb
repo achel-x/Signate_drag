{
 "cells": [
  {
   "cell_type": "code",
   "execution_count": null,
   "metadata": {},
   "outputs": [],
   "source": [
    "#通过交叉验证获得预测值\n",
    "#函数cross_val_predict和cross_val_score功能相似，但前者对每个输入返回一个预测元素\n",
    "from sklearn.model_selection import cross_val_predict\n",
    "predicted=cross_val_predict(clf,iris.data,iris.target,cv=10)\n",
    "metrics.accuracy_score(iris.target,predicted)"
   ]
  },
  {
   "cell_type": "code",
   "execution_count": null,
   "metadata": {},
   "outputs": [],
   "source": [
    "#生成文件\n",
    "submission_df=pd.DataFrame(data={'Id':test_df.index,'SalePrice':y_final})\n",
    "submission_df.head()\n",
    "submission_df.to_csv('ensenbl_ridge_randomForest.csv',header=False,index=False)"
   ]
  },
  {
   "cell_type": "code",
   "execution_count": null,
   "metadata": {},
   "outputs": [],
   "source": [
    "#模型基础验证\n",
    "#建立模型SVR\n",
    "svc=svm.SVR(kernel='rbf',C=10,gamma=0.001)\n",
    "#训练模型\n",
    "svc.fit(X_train,y_train)\n",
    "#得到分数\n",
    "print(svc.score(X_test,y_test))\n",
    "\n",
    "\n",
    "#交叉验证\n",
    "scores = cross_val_score(svc, X_train, y_train,cv=5,scoring='r2')\n",
    "print(\"Accuary: %0.2f(+/-%0.2f)\" % (scores.mean(),scores.std()*2))\n",
    "\n",
    "#判断参数\n"
   ]
  },
  {
   "cell_type": "code",
   "execution_count": null,
   "metadata": {},
   "outputs": [],
   "source": [
    "#随机森林回归调参\n",
    "N_estimators=[20,50,100,150,200,260,300]\n",
    "test_scores=[]\n",
    "for N in N_estimators:\n",
    "    clf=RandomForestRegressor(n_estimators=N,max_features=0.3)\n",
    "    test_score=np.sqrt(-cross_val_score(clf,X_train,y_train,cv=5,scoring='neg_mean_squared_error'))\n",
    "    test_scores.append(np.mean(test_score))\n",
    "plt.plot(N_estimators,test_scores)\n",
    "plt.title('N_estimators vc CV Error')"
   ]
  },
  {
   "cell_type": "code",
   "execution_count": null,
   "metadata": {},
   "outputs": [],
   "source": [
    "#保存模型\n",
    "import joblib\n",
    "joblib.dump(svc, 'SVR.pickle')\n",
    "joblib.dump(svcRF, 'svcRF.pickle')\n",
    "#载入模型\n",
    "svc = joblib.load('SVR.pickle')\n",
    "svcRF = joblib.load('svcRF.pickle')"
   ]
  }
 ],
 "metadata": {
  "kernelspec": {
   "display_name": "Python 3",
   "language": "python",
   "name": "python3"
  },
  "language_info": {
   "codemirror_mode": {
    "name": "ipython",
    "version": 3
   },
   "file_extension": ".py",
   "mimetype": "text/x-python",
   "name": "python",
   "nbconvert_exporter": "python",
   "pygments_lexer": "ipython3",
   "version": "3.6.9"
  }
 },
 "nbformat": 4,
 "nbformat_minor": 2
}
