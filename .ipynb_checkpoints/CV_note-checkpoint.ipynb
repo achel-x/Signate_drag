{
 "cells": [
  {
   "cell_type": "markdown",
   "metadata": {},
   "source": [
    "# 参数选择结果保存文档\n",
    "不能运行 只保存代码和结果\n",
    "源代码在drug_py 或 0912 中。但因为重启服务时可能会删掉数据 所以特此留存过程文件。"
   ]
  },
  {
   "cell_type": "markdown",
   "metadata": {},
   "source": [
    "## SVR"
   ]
  },
  {
   "cell_type": "code",
   "execution_count": 64,
   "metadata": {
    "scrolled": false
   },
   "outputs": [
    {
     "name": "stdout",
     "output_type": "stream",
     "text": [
      "r2\n",
      "SVR(C=10.0, cache_size=200, coef0=0.0, degree=3, epsilon=0.1, gamma=0.0001,\n",
      "    kernel='rbf', max_iter=-1, shrinking=True, tol=0.001, verbose=False)\n",
      "0.466(+/-0.008) for {'C': 1.0, 'gamma': 0.0001}\n",
      "0.488(+/-0.007) for {'C': 1.0, 'gamma': 0.001}\n",
      "0.047(+/-0.001) for {'C': 1.0, 'gamma': 0.01}\n",
      "0.007(+/-0.002) for {'C': 1.0, 'gamma': 0.1}\n",
      "0.006(+/-0.001) for {'C': 1.0, 'gamma': 1.0}\n",
      "0.523(+/-0.018) for {'C': 10.0, 'gamma': 0.0001}\n",
      "0.498(+/-0.006) for {'C': 10.0, 'gamma': 0.001}\n",
      "0.055(+/-0.002) for {'C': 10.0, 'gamma': 0.01}\n",
      "0.007(+/-0.002) for {'C': 10.0, 'gamma': 0.1}\n",
      "0.006(+/-0.002) for {'C': 10.0, 'gamma': 1.0}\n",
      "0.480(+/-0.017) for {'C': 100.0, 'gamma': 0.0001}\n",
      "0.500(+/-0.006) for {'C': 100.0, 'gamma': 0.001}\n",
      "0.055(+/-0.002) for {'C': 100.0, 'gamma': 0.01}\n",
      "0.007(+/-0.002) for {'C': 100.0, 'gamma': 0.1}\n",
      "0.006(+/-0.002) for {'C': 100.0, 'gamma': 1.0}\n",
      "0.448(+/-0.010) for {'C': 1000.0, 'gamma': 0.0001}\n",
      "0.505(+/-0.010) for {'C': 1000.0, 'gamma': 0.001}\n",
      "0.055(+/-0.002) for {'C': 1000.0, 'gamma': 0.01}\n",
      "0.007(+/-0.002) for {'C': 1000.0, 'gamma': 0.1}\n",
      "0.006(+/-0.002) for {'C': 1000.0, 'gamma': 1.0}\n"
     ]
    }
   ],
   "source": [
    "#SVR模型调参数：C gamma\n",
    "param_g=[{\"C\": [1e0, 1e1, 1e2, 1e3],\"gamma\": np.logspace(-4, 0, 5)}]\n",
    "scores_g=['r2']\n",
    "for score in scores_g:\n",
    "    print(score)\n",
    "    clf=GridSearchCV(svm.SVR(),param_grid=param_g,cv=3,scoring=score)\n",
    "    clf.fit(X_train,y_train)\n",
    "    \n",
    "    print(clf.best_estimator_)\n",
    "    \n",
    "    means = clf.cv_results_['mean_test_score']\n",
    "    stds=clf.cv_results_['std_test_score']\n",
    "    params = clf.cv_results_['params']\n",
    "    \n",
    "    for (param,mean_score,std_score) in zip(params,means,stds):\n",
    "        print(\"%0.3f(+/-%0.03f) for %r\"%(mean_score,std_score,param))"
   ]
  },
  {
   "cell_type": "markdown",
   "metadata": {},
   "source": [
    "## 随机森林模型"
   ]
  },
  {
   "cell_type": "code",
   "execution_count": 50,
   "metadata": {},
   "outputs": [
    {
     "name": "stdout",
     "output_type": "stream",
     "text": [
      "r2\n",
      "RandomForestRegressor(bootstrap=True, criterion='mse', max_depth=None,\n",
      "                      max_features='auto', max_leaf_nodes=None,\n",
      "                      min_impurity_decrease=0.0, min_impurity_split=None,\n",
      "                      min_samples_leaf=1, min_samples_split=2,\n",
      "                      min_weight_fraction_leaf=0.0, n_estimators=500,\n",
      "                      n_jobs=None, oob_score=False, random_state=None,\n",
      "                      verbose=0, warm_start=False)\n",
      "0.296(+/-0.016) for {'n_estimators': 20}\n",
      "0.324(+/-0.009) for {'n_estimators': 50}\n",
      "0.334(+/-0.007) for {'n_estimators': 100}\n",
      "0.337(+/-0.008) for {'n_estimators': 150}\n",
      "0.337(+/-0.008) for {'n_estimators': 200}\n",
      "0.340(+/-0.009) for {'n_estimators': 260}\n",
      "0.341(+/-0.009) for {'n_estimators': 300}\n",
      "0.342(+/-0.007) for {'n_estimators': 500}\n"
     ]
    }
   ],
   "source": [
    "#随机森林模型调参数（1）\n",
    "N_estimators=[{\"n_estimators\":[20,50,100,150,200,260,300,500]}]\n",
    "scores_g=['r2']\n",
    "for score in scores_g:\n",
    "    print(score)\n",
    "    clf=GridSearchCV(RandomForestRegressor(),param_grid=N_estimators,cv=3,scoring=score)\n",
    "    clf.fit(X_train,y_train)\n",
    "    \n",
    "    print(clf.best_estimator_)\n",
    "    \n",
    "    means = clf.cv_results_['mean_test_score']\n",
    "    stds=clf.cv_results_['std_test_score']\n",
    "    params = clf.cv_results_['params']\n",
    "    \n",
    "    for (param,mean_score,std_score) in zip(params,means,stds):\n",
    "        print(\"%0.3f(+/-%0.03f) for %r\"%(mean_score,std_score,param))"
   ]
  },
  {
   "cell_type": "markdown",
   "metadata": {},
   "source": [
    "## XGboost模型"
   ]
  },
  {
   "cell_type": "code",
   "execution_count": 71,
   "metadata": {},
   "outputs": [
    {
     "name": "stdout",
     "output_type": "stream",
     "text": [
      "r2\n",
      "Fitting 3 folds for each of 48 candidates, totalling 144 fits\n"
     ]
    },
    {
     "name": "stderr",
     "output_type": "stream",
     "text": [
      "[Parallel(n_jobs=-1)]: Using backend LokyBackend with 8 concurrent workers.\n",
      "[Parallel(n_jobs=-1)]: Done  34 tasks      | elapsed: 15.0min\n",
      "[Parallel(n_jobs=-1)]: Done 144 out of 144 | elapsed: 104.6min finished\n"
     ]
    },
    {
     "name": "stdout",
     "output_type": "stream",
     "text": [
      "[03:11:04] WARNING: d:\\build\\xgboost\\xgboost-0.90.git\\src\\objective\\regression_obj.cu:152: reg:linear is now deprecated in favor of reg:squarederror.\n",
      "XGBRegressor(base_score=0.5, booster='gbtree', colsample_bylevel=1,\n",
      "             colsample_bynode=1, colsample_bytree=1, gamma=0,\n",
      "             importance_type='gain', learning_rate=0.1, max_delta_step=0,\n",
      "             max_depth=7, min_child_weight=3, missing=None, n_estimators=100,\n",
      "             n_jobs=1, nthread=None, objective='reg:linear', random_state=0,\n",
      "             reg_alpha=0, reg_lambda=1, scale_pos_weight=1, seed=None,\n",
      "             silent=None, subsample=1, verbosity=1)\n",
      "0.315(+/-0.007) for {'max_depth': 3, 'min_child_weight': 1}\n",
      "0.316(+/-0.006) for {'max_depth': 3, 'min_child_weight': 2}\n",
      "0.317(+/-0.006) for {'max_depth': 3, 'min_child_weight': 3}\n",
      "0.317(+/-0.006) for {'max_depth': 3, 'min_child_weight': 4}\n",
      "0.317(+/-0.008) for {'max_depth': 3, 'min_child_weight': 5}\n",
      "0.317(+/-0.007) for {'max_depth': 3, 'min_child_weight': 6}\n",
      "0.359(+/-0.003) for {'max_depth': 4, 'min_child_weight': 1}\n",
      "0.360(+/-0.001) for {'max_depth': 4, 'min_child_weight': 2}\n",
      "0.361(+/-0.003) for {'max_depth': 4, 'min_child_weight': 3}\n",
      "0.360(+/-0.003) for {'max_depth': 4, 'min_child_weight': 4}\n",
      "0.357(+/-0.003) for {'max_depth': 4, 'min_child_weight': 5}\n",
      "0.361(+/-0.003) for {'max_depth': 4, 'min_child_weight': 6}\n",
      "0.382(+/-0.004) for {'max_depth': 5, 'min_child_weight': 1}\n",
      "0.386(+/-0.005) for {'max_depth': 5, 'min_child_weight': 2}\n",
      "0.383(+/-0.005) for {'max_depth': 5, 'min_child_weight': 3}\n",
      "0.382(+/-0.006) for {'max_depth': 5, 'min_child_weight': 4}\n",
      "0.389(+/-0.002) for {'max_depth': 5, 'min_child_weight': 5}\n",
      "0.385(+/-0.009) for {'max_depth': 5, 'min_child_weight': 6}\n",
      "0.396(+/-0.010) for {'max_depth': 6, 'min_child_weight': 1}\n",
      "0.393(+/-0.010) for {'max_depth': 6, 'min_child_weight': 2}\n",
      "0.395(+/-0.008) for {'max_depth': 6, 'min_child_weight': 3}\n",
      "0.399(+/-0.011) for {'max_depth': 6, 'min_child_weight': 4}\n",
      "0.395(+/-0.010) for {'max_depth': 6, 'min_child_weight': 5}\n",
      "0.394(+/-0.010) for {'max_depth': 6, 'min_child_weight': 6}\n",
      "0.394(+/-0.012) for {'max_depth': 7, 'min_child_weight': 1}\n",
      "0.395(+/-0.012) for {'max_depth': 7, 'min_child_weight': 2}\n",
      "0.399(+/-0.013) for {'max_depth': 7, 'min_child_weight': 3}\n",
      "0.397(+/-0.012) for {'max_depth': 7, 'min_child_weight': 4}\n",
      "0.397(+/-0.014) for {'max_depth': 7, 'min_child_weight': 5}\n",
      "0.390(+/-0.012) for {'max_depth': 7, 'min_child_weight': 6}\n",
      "0.387(+/-0.015) for {'max_depth': 8, 'min_child_weight': 1}\n",
      "0.386(+/-0.011) for {'max_depth': 8, 'min_child_weight': 2}\n",
      "0.384(+/-0.013) for {'max_depth': 8, 'min_child_weight': 3}\n",
      "0.390(+/-0.013) for {'max_depth': 8, 'min_child_weight': 4}\n",
      "0.393(+/-0.012) for {'max_depth': 8, 'min_child_weight': 5}\n",
      "0.389(+/-0.012) for {'max_depth': 8, 'min_child_weight': 6}\n",
      "0.383(+/-0.014) for {'max_depth': 9, 'min_child_weight': 1}\n",
      "0.382(+/-0.012) for {'max_depth': 9, 'min_child_weight': 2}\n",
      "0.377(+/-0.016) for {'max_depth': 9, 'min_child_weight': 3}\n",
      "0.377(+/-0.011) for {'max_depth': 9, 'min_child_weight': 4}\n",
      "0.383(+/-0.016) for {'max_depth': 9, 'min_child_weight': 5}\n",
      "0.378(+/-0.017) for {'max_depth': 9, 'min_child_weight': 6}\n",
      "0.366(+/-0.015) for {'max_depth': 10, 'min_child_weight': 1}\n",
      "0.361(+/-0.012) for {'max_depth': 10, 'min_child_weight': 2}\n",
      "0.363(+/-0.014) for {'max_depth': 10, 'min_child_weight': 3}\n",
      "0.366(+/-0.010) for {'max_depth': 10, 'min_child_weight': 4}\n",
      "0.372(+/-0.015) for {'max_depth': 10, 'min_child_weight': 5}\n",
      "0.368(+/-0.015) for {'max_depth': 10, 'min_child_weight': 6}\n"
     ]
    }
   ],
   "source": [
    "#调参 XGboost——maxdepth minchildweight 其他默认\n",
    "cv_params = [{'max_depth': [3, 4, 5, 6, 7, 8, 9, 10], 'min_child_weight': [1, 2, 3, 4, 5, 6]}]\n",
    "\n",
    "scores_GBM=['r2']\n",
    "\n",
    "for score in scores_GBM:\n",
    "    print(score)\n",
    "    model = XGBRegressor()\n",
    "    optimized_GBM=GridSearchCV(estimator=model, param_grid=cv_params, scoring=score, cv=3, verbose=1, n_jobs=-1)\n",
    "    optimized_GBM.fit(X_train,y_train)\n",
    "    \n",
    "    print(optimized_GBM.best_estimator_)\n",
    "    \n",
    "    means_GBM = optimized_GBM.cv_results_['mean_test_score']\n",
    "    stds_GBM=optimized_GBM.cv_results_['std_test_score']\n",
    "    params_GBM = optimized_GBM.cv_results_['params']\n",
    "    \n",
    "    for (param_GBM,mean_score_GBM,std_score_GBM) in zip(params_GBM,means_GBM,stds_GBM):\n",
    "        print(\"%0.3f(+/-%0.03f) for %r\"%(mean_score_GBM,std_score_GBM,param_GBM))"
   ]
  },
  {
   "cell_type": "code",
   "execution_count": null,
   "metadata": {},
   "outputs": [],
   "source": []
  }
 ],
 "metadata": {
  "kernelspec": {
   "display_name": "Python 3",
   "language": "python",
   "name": "python3"
  },
  "language_info": {
   "codemirror_mode": {
    "name": "ipython",
    "version": 3
   },
   "file_extension": ".py",
   "mimetype": "text/x-python",
   "name": "python",
   "nbconvert_exporter": "python",
   "pygments_lexer": "ipython3",
   "version": "3.6.9"
  }
 },
 "nbformat": 4,
 "nbformat_minor": 2
}
